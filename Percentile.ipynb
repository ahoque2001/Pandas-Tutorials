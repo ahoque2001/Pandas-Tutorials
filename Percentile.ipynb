{
 "cells": [
  {
   "cell_type": "code",
   "execution_count": 2,
   "metadata": {},
   "outputs": [],
   "source": [
    "import numpy as np\n",
    "\n",
    "# finding positing and value \n",
    "# P/100(n+1)"
   ]
  },
  {
   "cell_type": "code",
   "execution_count": 11,
   "metadata": {},
   "outputs": [],
   "source": [
    "x=(10,25,34,42,55,56,67,70,79,90)"
   ]
  },
  {
   "cell_type": "code",
   "execution_count": 12,
   "metadata": {},
   "outputs": [
    {
     "name": "stdout",
     "output_type": "stream",
     "text": [
      "(10, 25, 34, 42, 55, 56, 67, 70, 79, 90)\n"
     ]
    }
   ],
   "source": [
    "print(x)"
   ]
  },
  {
   "cell_type": "code",
   "execution_count": 29,
   "metadata": {},
   "outputs": [
    {
     "name": "stdout",
     "output_type": "stream",
     "text": [
      "36.0\n",
      "55.5\n",
      "69.25\n",
      "90.0\n",
      "69.25\n"
     ]
    }
   ],
   "source": [
    "print (np.percentile(x,25))\n",
    "\n",
    "# 25/100 (10+1)  =2.75 th position\n",
    "# 50/100 (10+1)=5.5 th position\n",
    "\n",
    "print (np.percentile(x,50))\n",
    "print (np.percentile(x,75))\n",
    "print (np.percentile(x,100))\n",
    "\n",
    "print (np.quantile(x,0.75))\n"
   ]
  }
 ],
 "metadata": {
  "kernelspec": {
   "display_name": "Python 3",
   "language": "python",
   "name": "python3"
  },
  "language_info": {
   "codemirror_mode": {
    "name": "ipython",
    "version": 3
   },
   "file_extension": ".py",
   "mimetype": "text/x-python",
   "name": "python",
   "nbconvert_exporter": "python",
   "pygments_lexer": "ipython3",
   "version": "3.8.3"
  }
 },
 "nbformat": 4,
 "nbformat_minor": 4
}
