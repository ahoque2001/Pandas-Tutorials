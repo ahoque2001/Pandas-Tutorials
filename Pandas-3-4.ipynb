{
 "cells": [
  {
   "cell_type": "code",
   "execution_count": 33,
   "metadata": {},
   "outputs": [
    {
     "data": {
      "text/html": [
       "<div>\n",
       "<style scoped>\n",
       "    .dataframe tbody tr th:only-of-type {\n",
       "        vertical-align: middle;\n",
       "    }\n",
       "\n",
       "    .dataframe tbody tr th {\n",
       "        vertical-align: top;\n",
       "    }\n",
       "\n",
       "    .dataframe thead th {\n",
       "        text-align: right;\n",
       "    }\n",
       "</style>\n",
       "<table border=\"1\" class=\"dataframe\">\n",
       "  <thead>\n",
       "    <tr style=\"text-align: right;\">\n",
       "      <th></th>\n",
       "      <th>Alaska</th>\n",
       "      <th>Arkansas</th>\n",
       "      <th>California</th>\n",
       "      <th>Colorado</th>\n",
       "      <th>Connecticut</th>\n",
       "      <th>Delaware</th>\n",
       "      <th>District of Columbia</th>\n",
       "      <th>Guam</th>\n",
       "      <th>Hawaii</th>\n",
       "      <th>Idaho</th>\n",
       "      <th>...</th>\n",
       "      <th>Oregon</th>\n",
       "      <th>Pennsylvania</th>\n",
       "      <th>Rhode Island</th>\n",
       "      <th>South Dakota</th>\n",
       "      <th>Utah</th>\n",
       "      <th>Vermont</th>\n",
       "      <th>Washington</th>\n",
       "      <th>West Virginia</th>\n",
       "      <th>Wisconsin</th>\n",
       "      <th>Wyoming</th>\n",
       "    </tr>\n",
       "  </thead>\n",
       "  <tbody>\n",
       "    <tr>\n",
       "      <th>Alaska</th>\n",
       "      <td>1.000000</td>\n",
       "      <td>-0.332127</td>\n",
       "      <td>0.622245</td>\n",
       "      <td>-0.078678</td>\n",
       "      <td>0.646909</td>\n",
       "      <td>0.260265</td>\n",
       "      <td>0.271810</td>\n",
       "      <td>0.787515</td>\n",
       "      <td>0.630212</td>\n",
       "      <td>0.371745</td>\n",
       "      <td>...</td>\n",
       "      <td>0.010495</td>\n",
       "      <td>0.590298</td>\n",
       "      <td>0.610099</td>\n",
       "      <td>-0.287259</td>\n",
       "      <td>-0.017546</td>\n",
       "      <td>0.615675</td>\n",
       "      <td>0.378141</td>\n",
       "      <td>0.056924</td>\n",
       "      <td>0.683108</td>\n",
       "      <td>0.726771</td>\n",
       "    </tr>\n",
       "    <tr>\n",
       "      <th>Arkansas</th>\n",
       "      <td>-0.332127</td>\n",
       "      <td>1.000000</td>\n",
       "      <td>0.030265</td>\n",
       "      <td>0.333597</td>\n",
       "      <td>0.183662</td>\n",
       "      <td>0.107639</td>\n",
       "      <td>0.433775</td>\n",
       "      <td>0.037006</td>\n",
       "      <td>0.324870</td>\n",
       "      <td>0.008276</td>\n",
       "      <td>...</td>\n",
       "      <td>0.399650</td>\n",
       "      <td>0.065998</td>\n",
       "      <td>0.160773</td>\n",
       "      <td>0.826094</td>\n",
       "      <td>0.208586</td>\n",
       "      <td>0.236875</td>\n",
       "      <td>0.130825</td>\n",
       "      <td>0.504703</td>\n",
       "      <td>-0.069024</td>\n",
       "      <td>-0.235369</td>\n",
       "    </tr>\n",
       "    <tr>\n",
       "      <th>California</th>\n",
       "      <td>0.622245</td>\n",
       "      <td>0.030265</td>\n",
       "      <td>1.000000</td>\n",
       "      <td>0.649967</td>\n",
       "      <td>0.881831</td>\n",
       "      <td>0.518481</td>\n",
       "      <td>0.727373</td>\n",
       "      <td>0.411729</td>\n",
       "      <td>0.610784</td>\n",
       "      <td>0.542006</td>\n",
       "      <td>...</td>\n",
       "      <td>0.572160</td>\n",
       "      <td>0.241669</td>\n",
       "      <td>0.816544</td>\n",
       "      <td>0.171242</td>\n",
       "      <td>0.367924</td>\n",
       "      <td>0.894617</td>\n",
       "      <td>0.816087</td>\n",
       "      <td>0.492809</td>\n",
       "      <td>0.382444</td>\n",
       "      <td>0.598739</td>\n",
       "    </tr>\n",
       "    <tr>\n",
       "      <th>Colorado</th>\n",
       "      <td>-0.078678</td>\n",
       "      <td>0.333597</td>\n",
       "      <td>0.649967</td>\n",
       "      <td>1.000000</td>\n",
       "      <td>0.520931</td>\n",
       "      <td>0.581162</td>\n",
       "      <td>0.798145</td>\n",
       "      <td>-0.152291</td>\n",
       "      <td>0.291995</td>\n",
       "      <td>0.436981</td>\n",
       "      <td>...</td>\n",
       "      <td>0.733803</td>\n",
       "      <td>-0.229508</td>\n",
       "      <td>0.559646</td>\n",
       "      <td>0.519677</td>\n",
       "      <td>0.538775</td>\n",
       "      <td>0.581318</td>\n",
       "      <td>0.721208</td>\n",
       "      <td>0.623479</td>\n",
       "      <td>-0.101133</td>\n",
       "      <td>0.095454</td>\n",
       "    </tr>\n",
       "    <tr>\n",
       "      <th>Connecticut</th>\n",
       "      <td>0.646909</td>\n",
       "      <td>0.183662</td>\n",
       "      <td>0.881831</td>\n",
       "      <td>0.520931</td>\n",
       "      <td>1.000000</td>\n",
       "      <td>0.586472</td>\n",
       "      <td>0.700081</td>\n",
       "      <td>0.587469</td>\n",
       "      <td>0.674581</td>\n",
       "      <td>0.536894</td>\n",
       "      <td>...</td>\n",
       "      <td>0.480491</td>\n",
       "      <td>0.408964</td>\n",
       "      <td>0.829952</td>\n",
       "      <td>0.228521</td>\n",
       "      <td>0.307922</td>\n",
       "      <td>0.911003</td>\n",
       "      <td>0.760697</td>\n",
       "      <td>0.484080</td>\n",
       "      <td>0.468287</td>\n",
       "      <td>0.752009</td>\n",
       "    </tr>\n",
       "  </tbody>\n",
       "</table>\n",
       "<p>5 rows × 37 columns</p>\n",
       "</div>"
      ],
      "text/plain": [
       "               Alaska  Arkansas  California  Colorado  Connecticut  Delaware  \\\n",
       "Alaska       1.000000 -0.332127    0.622245 -0.078678     0.646909  0.260265   \n",
       "Arkansas    -0.332127  1.000000    0.030265  0.333597     0.183662  0.107639   \n",
       "California   0.622245  0.030265    1.000000  0.649967     0.881831  0.518481   \n",
       "Colorado    -0.078678  0.333597    0.649967  1.000000     0.520931  0.581162   \n",
       "Connecticut  0.646909  0.183662    0.881831  0.520931     1.000000  0.586472   \n",
       "\n",
       "             District of Columbia      Guam    Hawaii     Idaho  ...  \\\n",
       "Alaska                   0.271810  0.787515  0.630212  0.371745  ...   \n",
       "Arkansas                 0.433775  0.037006  0.324870  0.008276  ...   \n",
       "California               0.727373  0.411729  0.610784  0.542006  ...   \n",
       "Colorado                 0.798145 -0.152291  0.291995  0.436981  ...   \n",
       "Connecticut              0.700081  0.587469  0.674581  0.536894  ...   \n",
       "\n",
       "               Oregon  Pennsylvania  Rhode Island  South Dakota      Utah  \\\n",
       "Alaska       0.010495      0.590298      0.610099     -0.287259 -0.017546   \n",
       "Arkansas     0.399650      0.065998      0.160773      0.826094  0.208586   \n",
       "California   0.572160      0.241669      0.816544      0.171242  0.367924   \n",
       "Colorado     0.733803     -0.229508      0.559646      0.519677  0.538775   \n",
       "Connecticut  0.480491      0.408964      0.829952      0.228521  0.307922   \n",
       "\n",
       "              Vermont  Washington  West Virginia  Wisconsin   Wyoming  \n",
       "Alaska       0.615675    0.378141       0.056924   0.683108  0.726771  \n",
       "Arkansas     0.236875    0.130825       0.504703  -0.069024 -0.235369  \n",
       "California   0.894617    0.816087       0.492809   0.382444  0.598739  \n",
       "Colorado     0.581318    0.721208       0.623479  -0.101133  0.095454  \n",
       "Connecticut  0.911003    0.760697       0.484080   0.468287  0.752009  \n",
       "\n",
       "[5 rows x 37 columns]"
      ]
     },
     "execution_count": 33,
     "metadata": {},
     "output_type": "execute_result"
    }
   ],
   "source": [
    "import pandas as pd\n",
    "import numpy as np\n",
    "df=pd.read_csv(\"dataset/minwages.csv\")\n",
    "\n",
    "act_min_wage=pd.DataFrame()\n",
    "\n",
    "for name, group in df.groupby(\"State\"):\n",
    "    if act_min_wage.empty :\n",
    "        act_min_wage=group.set_index(\"Year\")[[\"State.Minimum.Wage.2020.Dollars\"]].rename(columns={\"State.Minimum.Wage.2020.Dollars\":name})\n",
    "    else:\n",
    "        act_min_wage=act_min_wage.join(group.set_index(\"Year\")[[\"State.Minimum.Wage.2020.Dollars\"]].rename(columns={\"State.Minimum.Wage.2020.Dollars\":name}))\n",
    "        \n",
    "act_min_wage.head()\n",
    "\n",
    "min_wage_corr= act_min_wage.replace(0,np.NaN).dropna(axis=1).corr().head()\n",
    "\n",
    "min_wage_corr.head()"
   ]
  },
  {
   "cell_type": "code",
   "execution_count": 60,
   "metadata": {},
   "outputs": [
    {
     "data": {
      "text/plain": [
       "<matplotlib.image.AxesImage at 0x18e8976d9d0>"
      ]
     },
     "execution_count": 60,
     "metadata": {},
     "output_type": "execute_result"
    },
    {
     "data": {
      "image/png": "[encoded data removed]",
      "text/plain": [
       "<Figure size 1152x155.676 with 1 Axes>"
      ]
     },
     "metadata": {
      "needs_background": "light"
     },
     "output_type": "display_data"
    }
   ],
   "source": [
    "import matplotlib.pyplot as plt\n",
    "\n",
    "#plt.show(min_wage_corr\n",
    "plt.matshow(min_wage_corr)\n"
   ]
  },
  {
   "cell_type": "code",
   "execution_count": 70,
   "metadata": {},
   "outputs": [
    {
     "data": {
      "text/plain": [
       "[Text(0, 0, 'Al'),\n",
       " Text(0, 0, 'Ar'),\n",
       " Text(0, 0, 'Ca'),\n",
       " Text(0, 0, 'Co'),\n",
       " Text(0, 0, 'Co'),\n",
       " Text(0, 0, 'De'),\n",
       " Text(0, 0, 'Di')]"
      ]
     },
     "execution_count": 70,
     "metadata": {},
     "output_type": "execute_result"
    },
    {
     "data": {
      "image/png": "[encoded data removed]",
      "text/plain": [
       "<Figure size 864x864 with 1 Axes>"
      ]
     },
     "metadata": {
      "needs_background": "light"
     },
     "output_type": "display_data"
    }
   ],
   "source": [
    "labels = [c[:2] for c in min_wage_corr.columns]\n",
    "\n",
    "fig = plt.figure(figsize=(12,12))\n",
    "ax = fig.add_subplot(111)\n",
    "\n",
    "ax.matshow(min_wage_corr,cmap=plt.cm.RdYlGn)\n",
    "\n",
    "ax.set_xticklabels(np.arange(len(labels)))\n",
    "ax.set_yticklabels(np.arange(len(labels)))\n",
    "\n",
    "ax.axes.set_xticklabels(labels)\n",
    "ax.axes.set_yticklabels(labels)\n",
    "\n",
    "plt.show()\n"
   ]
  },
  {
   "cell_type": "code",
   "execution_count": 113,
   "metadata": {},
   "outputs": [],
   "source": [
    "import pandas as pd\n",
    "\n",
    "dfs = pd.read_html(\"https://www.infoplease.com/us/postal-information/state-abbreviations-and-state-postal-codes\")"
   ]
  },
  {
   "cell_type": "code",
   "execution_count": 84,
   "metadata": {},
   "outputs": [
    {
     "data": {
      "text/plain": [
       "[          State/District Abbreviation Postal Code\n",
       " 0                Alabama         Ala.          AL\n",
       " 1                 Alaska       Alaska          AK\n",
       " 2                Arizona        Ariz.          AZ\n",
       " 3               Arkansas         Ark.          AR\n",
       " 4             California       Calif.          CA\n",
       " 5               Colorado        Colo.          CO\n",
       " 6            Connecticut        Conn.          CT\n",
       " 7               Delaware         Del.          DE\n",
       " 8   District of Columbia         D.C.          DC\n",
       " 9                Florida         Fla.          FL\n",
       " 10               Georgia          Ga.          GA\n",
       " 11                Hawaii       Hawaii          HI\n",
       " 12                 Idaho        Idaho          ID\n",
       " 13              Illinois         Ill.          IL\n",
       " 14               Indiana         Ind.          IN\n",
       " 15                  Iowa         Iowa          IA\n",
       " 16                Kansas        Kans.          KS\n",
       " 17              Kentucky          Ky.          KY\n",
       " 18             Louisiana          La.          LA\n",
       " 19                 Maine        Maine          ME\n",
       " 20              Maryland          Md.          MD\n",
       " 21         Massachusetts        Mass.          MA\n",
       " 22              Michigan        Mich.          MI\n",
       " 23             Minnesota        Minn.          MN\n",
       " 24           Mississippi        Miss.          MS\n",
       " 25              Missouri          Mo.          MO\n",
       " 26               Montana        Mont.          MT\n",
       " 27              Nebraska        Nebr.          NE\n",
       " 28                Nevada         Nev.          NV\n",
       " 29         New Hampshire         N.H.          NH\n",
       " 30            New Jersey         N.J.          NJ\n",
       " 31            New Mexico         N.M.          NM\n",
       " 32              New York         N.Y.          NY\n",
       " 33        North Carolina         N.C.          NC\n",
       " 34          North Dakota         N.D.          ND\n",
       " 35                  Ohio         Ohio          OH\n",
       " 36              Oklahoma        Okla.          OK\n",
       " 37                Oregon         Ore.          OR\n",
       " 38          Pennsylvania          Pa.          PA\n",
       " 39          Rhode Island         R.I.          RI\n",
       " 40        South Carolina         S.C.          SC\n",
       " 41          South Dakota         S.D.          SD\n",
       " 42             Tennessee        Tenn.          TN\n",
       " 43                 Texas         Tex.          TX\n",
       " 44                  Utah         Utah          UT\n",
       " 45               Vermont          Vt.          VT\n",
       " 46              Virginia          Va.          VA\n",
       " 47            Washington        Wash.          WA\n",
       " 48         West Virginia        W.Va.          WV\n",
       " 49             Wisconsin         Wis.          WI\n",
       " 50               Wyoming         Wyo.          WY,\n",
       "         Territory/Associate Abbreviation Postal Code\n",
       " 0            American Samoa            Â          AS\n",
       " 1                      Guam         Guam          GU\n",
       " 2          Marshall Islands            Â          MH\n",
       " 3                Micronesia            Â          FM\n",
       " 4  Northern Mariana Islands            Â          MP\n",
       " 5                     Palau            Â          PW\n",
       " 6               Puerto Rico         P.R.          PR\n",
       " 7            Virgin Islands            Â          VI]"
      ]
     },
     "execution_count": 84,
     "metadata": {},
     "output_type": "execute_result"
    }
   ],
   "source": [
    "dfs"
   ]
  },
  {
   "cell_type": "code",
   "execution_count": 114,
   "metadata": {},
   "outputs": [
    {
     "name": "stdout",
     "output_type": "stream",
     "text": [
      "  State/District Abbreviation Postal Code\n",
      "0        Alabama         Ala.          AL\n",
      "1         Alaska       Alaska          AK\n",
      "2        Arizona        Ariz.          AZ\n",
      "3       Arkansas         Ark.          AR\n",
      "4     California       Calif.          CA\n",
      "        Territory/Associate Abbreviation Postal Code\n",
      "0            American Samoa            Â          AS\n",
      "1                      Guam         Guam          GU\n",
      "2          Marshall Islands            Â          MH\n",
      "3                Micronesia            Â          FM\n",
      "4  Northern Mariana Islands            Â          MP\n"
     ]
    }
   ],
   "source": [
    "for df in dfs:\n",
    "    print(df.head())"
   ]
  },
  {
   "cell_type": "code",
   "execution_count": 115,
   "metadata": {},
   "outputs": [
    {
     "data": {
      "text/html": [
       "<div>\n",
       "<style scoped>\n",
       "    .dataframe tbody tr th:only-of-type {\n",
       "        vertical-align: middle;\n",
       "    }\n",
       "\n",
       "    .dataframe tbody tr th {\n",
       "        vertical-align: top;\n",
       "    }\n",
       "\n",
       "    .dataframe thead th {\n",
       "        text-align: right;\n",
       "    }\n",
       "</style>\n",
       "<table border=\"1\" class=\"dataframe\">\n",
       "  <thead>\n",
       "    <tr style=\"text-align: right;\">\n",
       "      <th></th>\n",
       "      <th>State/District</th>\n",
       "      <th>Abbreviation</th>\n",
       "      <th>Postal Code</th>\n",
       "    </tr>\n",
       "  </thead>\n",
       "  <tbody>\n",
       "    <tr>\n",
       "      <th>0</th>\n",
       "      <td>Alabama</td>\n",
       "      <td>Ala.</td>\n",
       "      <td>AL</td>\n",
       "    </tr>\n",
       "    <tr>\n",
       "      <th>1</th>\n",
       "      <td>Alaska</td>\n",
       "      <td>Alaska</td>\n",
       "      <td>AK</td>\n",
       "    </tr>\n",
       "    <tr>\n",
       "      <th>2</th>\n",
       "      <td>Arizona</td>\n",
       "      <td>Ariz.</td>\n",
       "      <td>AZ</td>\n",
       "    </tr>\n",
       "    <tr>\n",
       "      <th>3</th>\n",
       "      <td>Arkansas</td>\n",
       "      <td>Ark.</td>\n",
       "      <td>AR</td>\n",
       "    </tr>\n",
       "    <tr>\n",
       "      <th>4</th>\n",
       "      <td>California</td>\n",
       "      <td>Calif.</td>\n",
       "      <td>CA</td>\n",
       "    </tr>\n",
       "  </tbody>\n",
       "</table>\n",
       "</div>"
      ],
      "text/plain": [
       "  State/District Abbreviation Postal Code\n",
       "0        Alabama         Ala.          AL\n",
       "1         Alaska       Alaska          AK\n",
       "2        Arizona        Ariz.          AZ\n",
       "3       Arkansas         Ark.          AR\n",
       "4     California       Calif.          CA"
      ]
     },
     "execution_count": 115,
     "metadata": {},
     "output_type": "execute_result"
    }
   ],
   "source": [
    "state_abbv = dfs[0]\n",
    "state_abbv.head()"
   ]
  },
  {
   "cell_type": "code",
   "execution_count": 116,
   "metadata": {},
   "outputs": [],
   "source": [
    "state_abbv.to_csv(\"dataset/state_abbv.csv\",index=False)"
   ]
  },
  {
   "cell_type": "code",
   "execution_count": 117,
   "metadata": {},
   "outputs": [],
   "source": [
    "state_abbv = pd.read_csv(\"dataset/state_abbv.csv\",index_col=0)"
   ]
  },
  {
   "cell_type": "code",
   "execution_count": 118,
   "metadata": {},
   "outputs": [
    {
     "data": {
      "text/html": [
       "<div>\n",
       "<style scoped>\n",
       "    .dataframe tbody tr th:only-of-type {\n",
       "        vertical-align: middle;\n",
       "    }\n",
       "\n",
       "    .dataframe tbody tr th {\n",
       "        vertical-align: top;\n",
       "    }\n",
       "\n",
       "    .dataframe thead th {\n",
       "        text-align: right;\n",
       "    }\n",
       "</style>\n",
       "<table border=\"1\" class=\"dataframe\">\n",
       "  <thead>\n",
       "    <tr style=\"text-align: right;\">\n",
       "      <th></th>\n",
       "      <th>Abbreviation</th>\n",
       "      <th>Postal Code</th>\n",
       "    </tr>\n",
       "    <tr>\n",
       "      <th>State/District</th>\n",
       "      <th></th>\n",
       "      <th></th>\n",
       "    </tr>\n",
       "  </thead>\n",
       "  <tbody>\n",
       "    <tr>\n",
       "      <th>Alabama</th>\n",
       "      <td>Ala.</td>\n",
       "      <td>AL</td>\n",
       "    </tr>\n",
       "    <tr>\n",
       "      <th>Alaska</th>\n",
       "      <td>Alaska</td>\n",
       "      <td>AK</td>\n",
       "    </tr>\n",
       "    <tr>\n",
       "      <th>Arizona</th>\n",
       "      <td>Ariz.</td>\n",
       "      <td>AZ</td>\n",
       "    </tr>\n",
       "    <tr>\n",
       "      <th>Arkansas</th>\n",
       "      <td>Ark.</td>\n",
       "      <td>AR</td>\n",
       "    </tr>\n",
       "    <tr>\n",
       "      <th>California</th>\n",
       "      <td>Calif.</td>\n",
       "      <td>CA</td>\n",
       "    </tr>\n",
       "  </tbody>\n",
       "</table>\n",
       "</div>"
      ],
      "text/plain": [
       "               Abbreviation Postal Code\n",
       "State/District                         \n",
       "Alabama                Ala.          AL\n",
       "Alaska               Alaska          AK\n",
       "Arizona               Ariz.          AZ\n",
       "Arkansas               Ark.          AR\n",
       "California           Calif.          CA"
      ]
     },
     "execution_count": 118,
     "metadata": {},
     "output_type": "execute_result"
    }
   ],
   "source": [
    "state_abbv.head()"
   ]
  },
  {
   "cell_type": "code",
   "execution_count": 122,
   "metadata": {},
   "outputs": [
    {
     "data": {
      "text/plain": [
       "{'Alabama': 'AL',\n",
       " 'Alaska': 'AK',\n",
       " 'Arizona': 'AZ',\n",
       " 'Arkansas': 'AR',\n",
       " 'California': 'CA',\n",
       " 'Colorado': 'CO',\n",
       " 'Connecticut': 'CT',\n",
       " 'Delaware': 'DE',\n",
       " 'District of Columbia': 'DC',\n",
       " 'Florida': 'FL',\n",
       " 'Georgia': 'GA',\n",
       " 'Hawaii': 'HI',\n",
       " 'Idaho': 'ID',\n",
       " 'Illinois': 'IL',\n",
       " 'Indiana': 'IN',\n",
       " 'Iowa': 'IA',\n",
       " 'Kansas': 'KS',\n",
       " 'Kentucky': 'KY',\n",
       " 'Louisiana': 'LA',\n",
       " 'Maine': 'ME',\n",
       " 'Maryland': 'MD',\n",
       " 'Massachusetts': 'MA',\n",
       " 'Michigan': 'MI',\n",
       " 'Minnesota': 'MN',\n",
       " 'Mississippi': 'MS',\n",
       " 'Missouri': 'MO',\n",
       " 'Montana': 'MT',\n",
       " 'Nebraska': 'NE',\n",
       " 'Nevada': 'NV',\n",
       " 'New Hampshire': 'NH',\n",
       " 'New Jersey': 'NJ',\n",
       " 'New Mexico': 'NM',\n",
       " 'New York': 'NY',\n",
       " 'North Carolina': 'NC',\n",
       " 'North Dakota': 'ND',\n",
       " 'Ohio': 'OH',\n",
       " 'Oklahoma': 'OK',\n",
       " 'Oregon': 'OR',\n",
       " 'Pennsylvania': 'PA',\n",
       " 'Rhode Island': 'RI',\n",
       " 'South Carolina': 'SC',\n",
       " 'South Dakota': 'SD',\n",
       " 'Tennessee': 'TN',\n",
       " 'Texas': 'TX',\n",
       " 'Utah': 'UT',\n",
       " 'Vermont': 'VT',\n",
       " 'Virginia': 'VA',\n",
       " 'Washington': 'WA',\n",
       " 'West Virginia': 'WV',\n",
       " 'Wisconsin': 'WI',\n",
       " 'Wyoming': 'WY'}"
      ]
     },
     "execution_count": 122,
     "metadata": {},
     "output_type": "execute_result"
    }
   ],
   "source": [
    "abbv_dict=state_abbv[[\"Postal Code\"]].to_dict()\n",
    "abbv_dict=abbv_dict[\"Postal Code\"]\n",
    "abbv_dict"
   ]
  },
  {
   "cell_type": "code",
   "execution_count": 127,
   "metadata": {},
   "outputs": [],
   "source": [
    "labels = [abbv_dict[c] for c in min_wage_corr.columns]"
   ]
  },
  {
   "cell_type": "code",
   "execution_count": 126,
   "metadata": {},
   "outputs": [],
   "source": [
    "abbv_dict['Guam']=\"Guam\""
   ]
  },
  {
   "cell_type": "code",
   "execution_count": 129,
   "metadata": {},
   "outputs": [
    {
     "data": {
      "image/png": "[encoded data removed]",
      "text/plain": [
       "<Figure size 864x864 with 1 Axes>"
      ]
     },
     "metadata": {
      "needs_background": "light"
     },
     "output_type": "display_data"
    }
   ],
   "source": [
    "labels = [c[:2] for c in min_wage_corr.columns]\n",
    "\n",
    "fig = plt.figure(figsize=(12,12))\n",
    "ax = fig.add_subplot(111)\n",
    "\n",
    "ax.matshow(min_wage_corr,cmap=plt.cm.RdYlGn)\n",
    "\n",
    "ax.set_xticklabels(np.arange(len(labels)))\n",
    "ax.set_yticklabels(np.arange(len(labels)))\n",
    "\n",
    "ax.axes.set_xticklabels(labels)\n",
    "ax.axes.set_yticklabels(labels)\n",
    "\n",
    "plt.show()"
   ]
  }
 ],
 "metadata": {
  "kernelspec": {
   "display_name": "Python 3",
   "language": "python",
   "name": "python3"
  },
  "language_info": {
   "codemirror_mode": {
    "name": "ipython",
    "version": 3
   },
   "file_extension": ".py",
   "mimetype": "text/x-python",
   "name": "python",
   "nbconvert_exporter": "python",
   "pygments_lexer": "ipython3",
   "version": "3.8.3"
  }
 },
 "nbformat": 4,
 "nbformat_minor": 4
}
